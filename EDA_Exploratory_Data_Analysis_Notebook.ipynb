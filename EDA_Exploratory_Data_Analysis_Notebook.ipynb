{
 "cells": [
  {
   "cell_type": "markdown",
   "id": "137dae2d",
   "metadata": {},
   "source": [
    "# 🔍 Exploratory Data Analysis (EDA) Notebook\n",
    "This notebook walks through a basic EDA process using a sample dataset."
   ]
  },
  {
   "cell_type": "code",
   "execution_count": null,
   "id": "38e978b0",
   "metadata": {},
   "outputs": [],
   "source": [
    "# Import necessary libraries\n",
    "import pandas as pd\n",
    "import numpy as np\n",
    "import seaborn as sns\n",
    "import matplotlib.pyplot as plt\n",
    "\n",
    "# Optional: display plots inline\n",
    "%matplotlib inline\n"
   ]
  },
  {
   "cell_type": "code",
   "execution_count": null,
   "id": "8638f69a",
   "metadata": {},
   "outputs": [],
   "source": [
    "# Load a sample dataset\n",
    "df = sns.load_dataset('titanic')\n",
    "df.head()\n"
   ]
  },
  {
   "cell_type": "markdown",
   "id": "8867cb26",
   "metadata": {},
   "source": [
    "## 📊 Basic Info and Summary Statistics"
   ]
  },
  {
   "cell_type": "code",
   "execution_count": null,
   "id": "e07181dc",
   "metadata": {},
   "outputs": [],
   "source": [
    "# Dataset shape and info\n",
    "print(\"Shape:\", df.shape)\n",
    "df.info()\n"
   ]
  },
  {
   "cell_type": "code",
   "execution_count": null,
   "id": "14c4d961",
   "metadata": {},
   "outputs": [],
   "source": [
    "# Summary statistics\n",
    "df.describe(include='all')\n"
   ]
  },
  {
   "cell_type": "markdown",
   "id": "bcbabcba",
   "metadata": {},
   "source": [
    "## 🔎 Missing Values"
   ]
  },
  {
   "cell_type": "code",
   "execution_count": null,
   "id": "0c8b9d39",
   "metadata": {},
   "outputs": [],
   "source": [
    "# Check for missing values\n",
    "df.isnull().sum()\n"
   ]
  },
  {
   "cell_type": "markdown",
   "id": "d3c50a94",
   "metadata": {},
   "source": [
    "## 📈 Univariate Analysis"
   ]
  },
  {
   "cell_type": "code",
   "execution_count": null,
   "id": "91a1f93d",
   "metadata": {},
   "outputs": [],
   "source": [
    "# Histogram for a numeric column\n",
    "sns.histplot(df['age'].dropna(), kde=True)\n",
    "plt.title(\"Age Distribution\")\n",
    "plt.show()\n"
   ]
  },
  {
   "cell_type": "code",
   "execution_count": null,
   "id": "afc093d1",
   "metadata": {},
   "outputs": [],
   "source": [
    "# Box plot to check outliers\n",
    "sns.boxplot(x=df['fare'])\n",
    "plt.title(\"Fare Boxplot\")\n",
    "plt.show()\n"
   ]
  },
  {
   "cell_type": "markdown",
   "id": "dee96ba0",
   "metadata": {},
   "source": [
    "## 🔗 Bivariate Analysis"
   ]
  },
  {
   "cell_type": "code",
   "execution_count": null,
   "id": "0a15f2bd",
   "metadata": {},
   "outputs": [],
   "source": [
    "# Scatterplot: not meaningful for this dataset, so we use heatmap\n",
    "sns.heatmap(df.corr(numeric_only=True), annot=True, cmap='coolwarm')\n",
    "plt.title(\"Correlation Heatmap\")\n",
    "plt.show()\n"
   ]
  },
  {
   "cell_type": "markdown",
   "id": "d6f181c6",
   "metadata": {},
   "source": [
    "## 🚨 Outlier Detection (Z-score Method)"
   ]
  },
  {
   "cell_type": "code",
   "execution_count": null,
   "id": "f20af1a2",
   "metadata": {},
   "outputs": [],
   "source": [
    "from scipy import stats\n",
    "\n",
    "z = np.abs(stats.zscore(df.select_dtypes(include=[np.number]).dropna()))\n",
    "df_clean = df[(z < 3).all(axis=1)]\n",
    "df_clean.shape\n"
   ]
  },
  {
   "cell_type": "markdown",
   "id": "1c171abc",
   "metadata": {},
   "source": [
    "## 📊 Categorical Variable Analysis"
   ]
  },
  {
   "cell_type": "code",
   "execution_count": null,
   "id": "2995bc15",
   "metadata": {},
   "outputs": [],
   "source": [
    "# Bar plot for categorical data\n",
    "sns.countplot(x='class', data=df)\n",
    "plt.title(\"Passenger Class Distribution\")\n",
    "plt.show()\n"
   ]
  }
 ],
 "metadata": {},
 "nbformat": 4,
 "nbformat_minor": 5
}
